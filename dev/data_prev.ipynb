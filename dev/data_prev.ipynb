{
 "cells": [
  {
   "cell_type": "markdown",
   "id": "6426c30b-df03-46a9-8fb7-57ddf404683e",
   "metadata": {
    "tags": []
   },
   "source": [
    "# Tutorial: Data class"
   ]
  },
  {
   "cell_type": "code",
   "execution_count": null,
   "id": "2f554321-1a16-4e56-9cf0-8ce9836fdbc7",
   "metadata": {},
   "outputs": [],
   "source": [
    "import sys\n",
    "from datetime import datetime\n",
    "import numpy as np\n",
    "import dask\n",
    "import xarray as xr"
   ]
  },
  {
   "cell_type": "code",
   "execution_count": null,
   "id": "a3631dd8-2b60-43ec-9440-13c58080da04",
   "metadata": {},
   "outputs": [],
   "source": [
    "# connect to dask client\n",
    "from dask.distributed import Client\n",
    "\n",
    "client = Client(\"tcp://127.0.0.1:49686\")\n",
    "client"
   ]
  },
  {
   "cell_type": "code",
   "execution_count": null,
   "id": "3350a936-018d-46f8-94e4-d749cc6b96c5",
   "metadata": {},
   "outputs": [],
   "source": [
    "%load_ext autoreload"
   ]
  },
  {
   "cell_type": "code",
   "execution_count": null,
   "id": "ae2851ae-c829-4377-9bbb-9a0fbdd21433",
   "metadata": {},
   "outputs": [],
   "source": [
    "%autoreload 2\n",
    "sys.path.insert(0, '../')\n",
    "from clouddrift.data import erddap, local"
   ]
  },
  {
   "cell_type": "markdown",
   "id": "d9f0a4be-ec06-41ef-b312-51bb3a72e919",
   "metadata": {
    "jp-MarkdownHeadingCollapsed": true,
    "tags": []
   },
   "source": [
    "# Remote ERDDAP server [(link)](https://data.pmel.noaa.gov/generic/erddap/tabledap/gdp_hourly_velocities.html)"
   ]
  },
  {
   "cell_type": "markdown",
   "id": "e9b51621-ad4b-4397-a86a-88e3eea678ed",
   "metadata": {},
   "source": [
    "## Unique drifter"
   ]
  },
  {
   "cell_type": "code",
   "execution_count": null,
   "id": "92889bc9-fca4-44df-a8be-6766c49c7e4e",
   "metadata": {},
   "outputs": [],
   "source": [
    "# get drifter from errdap\n",
    "e = erddap()\n",
    "e.retrieve_drifter(10050130)\n",
    "e.print_constraints()"
   ]
  },
  {
   "cell_type": "code",
   "execution_count": null,
   "id": "0019d9ae-fc0b-48d8-b45a-99bf535037e4",
   "metadata": {},
   "outputs": [],
   "source": [
    "%%time\n",
    "ds = e.to_xarray()\n",
    "ds"
   ]
  },
  {
   "cell_type": "markdown",
   "id": "d1bb5b3c-8fb6-4827-a266-05035aeb6953",
   "metadata": {},
   "source": [
    "## list of drifters"
   ]
  },
  {
   "cell_type": "code",
   "execution_count": null,
   "id": "e393ef15-407d-4126-86c4-495c90437d52",
   "metadata": {
    "tags": []
   },
   "outputs": [],
   "source": [
    "# get drifter from errdap\n",
    "e = erddap()\n",
    "\n",
    "drifter_ids = [10050130, 10051120]\n",
    "\n",
    "dfs = {}\n",
    "for i in drifter_ids:\n",
    "    e.retrieve_drifter(i)\n",
    "    dfs[i] = e.to_xarray()"
   ]
  },
  {
   "cell_type": "code",
   "execution_count": null,
   "id": "db884807-145c-4128-b10b-fc89595a8bcf",
   "metadata": {},
   "outputs": [],
   "source": [
    "dfs[10050130]"
   ]
  },
  {
   "cell_type": "code",
   "execution_count": null,
   "id": "c5063fc5-8e6d-4605-bf82-2748840fec21",
   "metadata": {},
   "outputs": [],
   "source": [
    "dfs[10051120]"
   ]
  },
  {
   "cell_type": "markdown",
   "id": "0cab09a5-ab18-4b09-91db-57a740de7e77",
   "metadata": {},
   "source": [
    "## region"
   ]
  },
  {
   "cell_type": "code",
   "execution_count": null,
   "id": "a49a346a-d9a2-43e1-9d28-4b144c09ca6e",
   "metadata": {},
   "outputs": [],
   "source": [
    "e2 = erddap()\n",
    "\n",
    "lon = [-98, -78]\n",
    "lat = [18, 31]\n",
    "day0 = \"%sZ\" % datetime(2015,1,1).isoformat()\n",
    "day1 = \"%sZ\" % datetime(2020,12,31).isoformat()\n",
    "time = [day0, day1]\n",
    "\n",
    "e2.retrieve_region(lon, lat, time)\n",
    "\n",
    "e2.print_constraints()"
   ]
  },
  {
   "cell_type": "code",
   "execution_count": null,
   "id": "7c4d4e2a-27a9-4354-b81b-a499937417ed",
   "metadata": {},
   "outputs": [],
   "source": [
    "%%time\n",
    "ds2 = e2.to_xarray()\n",
    "ds2"
   ]
  },
  {
   "cell_type": "markdown",
   "id": "6c7ebb61-d080-4b14-a348-f65d5ffbde71",
   "metadata": {
    "tags": []
   },
   "source": [
    "# Local"
   ]
  },
  {
   "cell_type": "code",
   "execution_count": null,
   "id": "f3b2ae37-85a7-4f61-83a5-155c04b1e2b1",
   "metadata": {},
   "outputs": [],
   "source": [
    "path_clouddrift = '../data/process/gdp_v2.00_obs.nc'\n",
    "path_traj_clouddrift = '../data/process/gdp_v2.00_traj.nc'"
   ]
  },
  {
   "cell_type": "code",
   "execution_count": null,
   "id": "763c1ffc-9f7d-405b-9658-7f64047ab668",
   "metadata": {
    "tags": []
   },
   "outputs": [],
   "source": [
    "%%time\n",
    "l = local(path_clouddrift, path_traj_clouddrift)"
   ]
  },
  {
   "cell_type": "code",
   "execution_count": null,
   "id": "f37565ea-885d-4fb0-a8b5-2891b3b5ec34",
   "metadata": {},
   "outputs": [],
   "source": [
    "l.ds_obs.ve"
   ]
  },
  {
   "cell_type": "code",
   "execution_count": null,
   "id": "b36a0e4b-c758-4760-87f4-9c29cc2503e4",
   "metadata": {},
   "outputs": [],
   "source": [
    "%%time\n",
    "l.ds_obs.ve.mean().compute()"
   ]
  },
  {
   "cell_type": "markdown",
   "id": "534468c5-562b-487f-81c4-8e2c6a186064",
   "metadata": {
    "tags": []
   },
   "source": [
    "## unique drifter"
   ]
  },
  {
   "cell_type": "code",
   "execution_count": null,
   "id": "6da1f14b-d519-4aaa-9987-767b4ab99196",
   "metadata": {},
   "outputs": [],
   "source": [
    "%%time\n",
    "ds = l.retrieve_drifter(101509)"
   ]
  },
  {
   "cell_type": "code",
   "execution_count": null,
   "id": "dda3f495-ecae-4e46-a507-14eebfb360e0",
   "metadata": {},
   "outputs": [],
   "source": [
    "ds"
   ]
  },
  {
   "cell_type": "markdown",
   "id": "0e282f19-c185-44b1-b0e4-0495e7a1bdc1",
   "metadata": {
    "tags": []
   },
   "source": [
    "## list of drifters"
   ]
  },
  {
   "cell_type": "code",
   "execution_count": null,
   "id": "1bca83b5-ce6a-4981-995d-253a6b33d1ee",
   "metadata": {},
   "outputs": [],
   "source": [
    "%%time\n",
    "ds = l.retrieve_drifter([101509, 9927907])"
   ]
  },
  {
   "cell_type": "code",
   "execution_count": null,
   "id": "03ad0ceb-4969-4619-9205-b44d118beedb",
   "metadata": {},
   "outputs": [],
   "source": [
    "ds"
   ]
  },
  {
   "cell_type": "code",
   "execution_count": null,
   "id": "344cb72c-48d4-48d0-a732-15ea648a14c8",
   "metadata": {},
   "outputs": [],
   "source": [
    "%%time\n",
    "# retrieve 50 random drifters\n",
    "idx_to_retrieve = l.ds_traj['ID'][np.random.randint(0, l.number_traj, 50)].values\n",
    "ds = l.retrieve_drifter(idx_to_retrieve)"
   ]
  },
  {
   "cell_type": "code",
   "execution_count": null,
   "id": "f28ca1a2-60b3-4495-bec3-77689b235b97",
   "metadata": {},
   "outputs": [],
   "source": [
    "ds"
   ]
  },
  {
   "cell_type": "markdown",
   "id": "cc070d8b-5e8d-4a30-814b-f5e187bb9920",
   "metadata": {
    "tags": []
   },
   "source": [
    "## region"
   ]
  },
  {
   "cell_type": "code",
   "execution_count": null,
   "id": "b83cc8c7-f0bd-435c-ab0c-cec35521e9fb",
   "metadata": {
    "tags": []
   },
   "outputs": [],
   "source": [
    "%%time\n",
    "\n",
    "lon = [-98, -78]\n",
    "lat = [18, 31]\n",
    "day0 = \"%sZ\" % datetime(2015,1,1).isoformat()\n",
    "day1 = \"%sZ\" % datetime(2020,12,31).isoformat()\n",
    "time = [day0, day1]\n",
    "ds2 = l.retrieve_region(lon, lat, time)\n",
    "ds2"
   ]
  },
  {
   "cell_type": "markdown",
   "id": "b8fc378e-c971-418b-bddb-334504f3316b",
   "metadata": {},
   "source": [
    "# Testing"
   ]
  },
  {
   "cell_type": "markdown",
   "id": "4ae9c7df-a9c0-4bcf-8072-b7c864347c72",
   "metadata": {
    "pycharm": {
     "name": "#%%\n"
    },
    "tags": []
   },
   "source": [
    "## groupby and map()"
   ]
  },
  {
   "cell_type": "code",
   "execution_count": null,
   "id": "4bdc2b5a-fada-4e67-8bbf-24ee3aa45857",
   "metadata": {},
   "outputs": [],
   "source": [
    "%%time\n",
    "#grouped_traj = l.ds_obs.groupby('ids')\n",
    "\n",
    "# used smaller group for now\n",
    "grouped_traj = ds2.groupby('ids')"
   ]
  },
  {
   "cell_type": "code",
   "execution_count": null,
   "id": "d4842c37-7136-41a9-818d-2551600808af",
   "metadata": {},
   "outputs": [],
   "source": [
    "grouped_traj"
   ]
  },
  {
   "cell_type": "code",
   "execution_count": null,
   "id": "6882b592-6081-4712-84e6-9b26b4dcce00",
   "metadata": {},
   "outputs": [],
   "source": [
    "keys = list(grouped_traj.groups.keys())"
   ]
  },
  {
   "cell_type": "code",
   "execution_count": null,
   "id": "9a74be3f-407d-4e01-b7ec-6c8414920538",
   "metadata": {},
   "outputs": [],
   "source": [
    "grouped_traj[keys[150]]"
   ]
  },
  {
   "cell_type": "code",
   "execution_count": null,
   "id": "22cfc4e8-3a02-44e7-94d0-723ab43d10e1",
   "metadata": {},
   "outputs": [],
   "source": [
    "def haversine(lon1, lat1, lon2, lat2):\n",
    "    \"\"\"\n",
    "    Calculate the great circle distance between two points\n",
    "    on the earth (specified in decimal degrees)\n",
    "\n",
    "    All args must be of equal length.\n",
    "    \"\"\"\n",
    "    lon1, lat1, lon2, lat2 = map(np.radians, [lon1, lat1, lon2, lat2])\n",
    "\n",
    "    dlon = lon2 - lon1\n",
    "    dlat = lat2 - lat1\n",
    "\n",
    "    a = np.sin(dlat/2.0)**2 + np.cos(lat1) * np.cos(lat2) * np.sin(dlon/2.0)**2\n",
    "\n",
    "    # distance\n",
    "    earthRadius = 6371 # km\n",
    "    d = 2 * np.arcsin(np.sqrt(a)) * earthRadius # km\n",
    "    return d"
   ]
  },
  {
   "cell_type": "code",
   "execution_count": null,
   "id": "461b6edf-8f8c-44cf-a53b-2c49e9c02a0d",
   "metadata": {},
   "outputs": [],
   "source": [
    "def distance(ds):\n",
    "    return haversine(ds.longitude[:-1], ds.latitude[:-1], \n",
    "                     ds.longitude[1:], ds.latitude[1:])"
   ]
  },
  {
   "cell_type": "code",
   "execution_count": null,
   "id": "82faae31-b5a9-46ea-a408-e222948d6682",
   "metadata": {},
   "outputs": [],
   "source": [
    "grouped_traj"
   ]
  },
  {
   "cell_type": "code",
   "execution_count": null,
   "id": "dccdf37d-9542-4499-a764-508f616aacaa",
   "metadata": {},
   "outputs": [],
   "source": [
    "grouped_traj.mean()"
   ]
  },
  {
   "cell_type": "code",
   "execution_count": null,
   "id": "61235d84-bb13-43f5-ae46-9d7bad1ae598",
   "metadata": {},
   "outputs": [],
   "source": [
    "distance(ds2)"
   ]
  },
  {
   "cell_type": "code",
   "execution_count": null,
   "id": "e7095381-c87b-4c87-b77c-d12920445694",
   "metadata": {},
   "outputs": [],
   "source": [
    "grouped_traj.map(distance)"
   ]
  },
  {
   "cell_type": "code",
   "execution_count": null,
   "id": "4fca9f73-3f9b-460b-aa3d-dc02decc297a",
   "metadata": {},
   "outputs": [],
   "source": []
  },
  {
   "cell_type": "code",
   "execution_count": null,
   "id": "2087e724-0a55-4624-9ea8-52982ebd73a0",
   "metadata": {},
   "outputs": [],
   "source": [
    "def mean(obj, dim):\n",
    "\n",
    "    # note: apply always moves core dimensions to the end\n",
    "\n",
    "    return xr.apply_ufunc(\n",
    "\n",
    "        np.mean, obj, input_core_dims=[[dim]], kwargs={\"axis\": -1}\n",
    "\n",
    "    )"
   ]
  },
  {
   "cell_type": "code",
   "execution_count": null,
   "id": "e049669d-e023-4dfb-be3d-9bce4987dd72",
   "metadata": {},
   "outputs": [],
   "source": [
    "ds2['ve']"
   ]
  },
  {
   "cell_type": "code",
   "execution_count": null,
   "id": "f4d78367-acf3-41b9-aa35-7d06ca007714",
   "metadata": {},
   "outputs": [],
   "source": [
    "mean(ds2['ve'], ds2.dims['obs'])"
   ]
  },
  {
   "cell_type": "code",
   "execution_count": null,
   "id": "7d31ef65-99ad-4ab2-9471-c2b09863fb33",
   "metadata": {},
   "outputs": [],
   "source": [
    "def mean_traj(ds):\n",
    "    da = xr.DataArray(\n",
    "    data=temperature,\n",
    "\n",
    "    dims=[\"x\", \"y\", \"time\"],\n",
    "\n",
    "    coords=dict(\n",
    "\n",
    "        lon=([\"x\", \"y\"], lon),\n",
    "\n",
    "        lat=([\"x\", \"y\"], lat),\n",
    "\n",
    "        time=time,\n",
    "\n",
    "        reference_time=reference_time,\n",
    "\n",
    "    ),\n",
    "\n",
    "    attrs=dict(\n",
    "\n",
    "        description=\"Ambient temperature.\",\n",
    "\n",
    "        units=\"degC\",\n",
    "\n",
    "    ),\n",
    "\n",
    ")"
   ]
  },
  {
   "cell_type": "code",
   "execution_count": null,
   "id": "a4f63463-582c-4f8e-9ab2-873317a5e8e6",
   "metadata": {},
   "outputs": [],
   "source": [
    "grouped_traj"
   ]
  },
  {
   "cell_type": "code",
   "execution_count": null,
   "id": "57098413-e39e-48eb-babc-0e72658fa411",
   "metadata": {},
   "outputs": [],
   "source": [
    "grouped_traj.apply(mean_traj)"
   ]
  },
  {
   "cell_type": "code",
   "execution_count": null,
   "id": "b00d0436-0680-4d9e-a773-aa477aff467b",
   "metadata": {},
   "outputs": [],
   "source": []
  },
  {
   "cell_type": "code",
   "execution_count": null,
   "id": "288cd987-d269-46a8-b5cb-0d90dcbefc16",
   "metadata": {},
   "outputs": [],
   "source": [
    "value = np.zeros(l.number_traj)\n",
    "\n",
    "for i in range(0, len(l.traj_idx)-1):\n",
    "    r = l.traj_idx[i:i+1]\n",
    "    value[i] = l.ds_obs['longitude'][r].mean()"
   ]
  },
  {
   "cell_type": "code",
   "execution_count": null,
   "id": "30ac2fd5-c4cb-4d88-aca2-5f0d6e40ecef",
   "metadata": {},
   "outputs": [],
   "source": [
    "%%time\n",
    "mean_traj = grouped_traj.mean('obs')"
   ]
  },
  {
   "cell_type": "code",
   "execution_count": null,
   "id": "32a895fb-c35a-4174-a05a-0c3c77c4db30",
   "metadata": {},
   "outputs": [],
   "source": [
    "def midpoint_trajectory():\n",
    "    return ds.longitude.mean()"
   ]
  },
  {
   "cell_type": "code",
   "execution_count": null,
   "id": "922b9891-c2b0-4fa9-95a4-8f7fa4ac0989",
   "metadata": {},
   "outputs": [],
   "source": [
    "%%time\n",
    "grouped_traj_longitude = l.ds_obs['longitude'].groupby('ids')"
   ]
  },
  {
   "cell_type": "code",
   "execution_count": null,
   "id": "05a0451b-e2f3-4c31-8dbc-c6ec6a496327",
   "metadata": {},
   "outputs": [],
   "source": [
    "grouped_traj_longitude"
   ]
  },
  {
   "cell_type": "code",
   "execution_count": null,
   "id": "a8306277-0bac-4026-b882-1c6fb9193302",
   "metadata": {},
   "outputs": [],
   "source": [
    "grouped_traj_longitude[0]"
   ]
  },
  {
   "cell_type": "code",
   "execution_count": null,
   "id": "385062da-e26b-490d-8a4e-a90d88aeeb20",
   "metadata": {},
   "outputs": [],
   "source": [
    "%%time\n",
    "grouped_traj_longitude.mean()"
   ]
  },
  {
   "cell_type": "code",
   "execution_count": null,
   "id": "2891a663-60ea-400a-a215-8d531e0e5f9e",
   "metadata": {},
   "outputs": [],
   "source": []
  },
  {
   "cell_type": "code",
   "execution_count": null,
   "id": "866618e3-f695-4c33-b8a7-fc9a46758079",
   "metadata": {},
   "outputs": [],
   "source": [
    "%%time\n",
    "grouped_traj.mean('longitude')"
   ]
  },
  {
   "cell_type": "code",
   "execution_count": null,
   "id": "8bf5ac31-1e43-4f0a-aef0-dd345da6a29e",
   "metadata": {},
   "outputs": [],
   "source": [
    "%%time\n",
    "grouped_traj = l.ds_obs[[\"ve\", \"vn\"]].groupby('ids')"
   ]
  },
  {
   "cell_type": "code",
   "execution_count": null,
   "id": "3c8224cf-4004-4920-9f4a-dd215ede5a3c",
   "metadata": {},
   "outputs": [],
   "source": [
    "grouped_traj"
   ]
  },
  {
   "cell_type": "code",
   "execution_count": null,
   "id": "c1d2be57-c248-45dc-a3c7-be408a046057",
   "metadata": {},
   "outputs": [],
   "source": [
    "grouped_traj[list(grouped_traj.groups.keys())[150]]"
   ]
  },
  {
   "cell_type": "code",
   "execution_count": null,
   "id": "30660ef9-8e4f-4e88-847f-a4fd71f95d13",
   "metadata": {},
   "outputs": [],
   "source": [
    "%%time\n",
    "grouped_traj.map(lambda ve: ve - ve.mean(), shortcut=False)"
   ]
  },
  {
   "cell_type": "code",
   "execution_count": null,
   "id": "0d1f3c90-a4d2-4d92-9dd3-19fdadf0207b",
   "metadata": {},
   "outputs": [],
   "source": [
    "grouped_traj[0].isel(traj=[100])"
   ]
  },
  {
   "cell_type": "code",
   "execution_count": null,
   "id": "9d45e4f9-6281-451e-a19f-85d8416adc69",
   "metadata": {},
   "outputs": [],
   "source": [
    "grouped_traj[1]"
   ]
  },
  {
   "cell_type": "code",
   "execution_count": null,
   "id": "c3912481-f08c-4cc8-9ddf-8ccf322652bb",
   "metadata": {},
   "outputs": [],
   "source": [
    "grouped_traj[100].isel(traj=[100])"
   ]
  },
  {
   "cell_type": "markdown",
   "id": "6c0d9191-69fb-4ccf-b343-86abcc6238dd",
   "metadata": {
    "jp-MarkdownHeadingCollapsed": true,
    "tags": []
   },
   "source": [
    "# manually apply function at each trajectory"
   ]
  },
  {
   "cell_type": "code",
   "execution_count": null,
   "id": "6d0e574d-8db8-402f-b3c8-ca41232398f1",
   "metadata": {},
   "outputs": [],
   "source": [
    "def distance(i):\n",
    "    # get first and last point\n",
    "    ds_subset = l.ds.isel(traj=[i], obs=slice(l.traj_idx[i], l.traj_idx[i + 1]))\n",
    "    lon1 = ds_subset.longitude[0]\n",
    "    lat1 = ds_subset.latitude[0]\n",
    "    lon2 = ds_subset.longitude[-1]\n",
    "    lat2 = ds_subset.latitude[-1]\n",
    "    \n",
    "    # convert to radians\n",
    "    lon1, lat1, lon2, lat2 = map(np.radians, [lon1, lat1, lon2, lat2])\n",
    "\n",
    "    # haversine\n",
    "    dlon = lon2 - lon1\n",
    "    dlat = lat2 - lat1\n",
    "    a = np.sin(dlat/2.0)**2 + np.cos(lat1) * np.cos(lat2) * np.sin(dlon/2.0)**2\n",
    "\n",
    "    c = 2 * np.arcsin(np.sqrt(a))\n",
    "    km = 6367 * c\n",
    "    return km"
   ]
  },
  {
   "cell_type": "code",
   "execution_count": null,
   "id": "db9edde9-e11b-4b93-adcc-c0f4cb4e35e2",
   "metadata": {},
   "outputs": [],
   "source": [
    "%%time\n",
    "a = distance(10)"
   ]
  },
  {
   "cell_type": "code",
   "execution_count": null,
   "id": "352ba8d3-ba0a-4134-8ae7-1e596647dfdb",
   "metadata": {},
   "outputs": [],
   "source": [
    "a.compute()"
   ]
  },
  {
   "cell_type": "code",
   "execution_count": null,
   "id": "520dc39f-c254-4724-94d0-1940f57f6b99",
   "metadata": {},
   "outputs": [],
   "source": [
    "import dask.bag as db\n",
    "b = db.from_sequence(range(10), npartitions=10).map(distance)"
   ]
  },
  {
   "cell_type": "code",
   "execution_count": null,
   "id": "4def7204-4e55-4934-8180-370599bfe49e",
   "metadata": {},
   "outputs": [],
   "source": [
    "b"
   ]
  },
  {
   "cell_type": "code",
   "execution_count": null,
   "id": "011b05ae-93c9-4cbc-b291-37b34bdeb232",
   "metadata": {},
   "outputs": [],
   "source": [
    "%%time\n",
    "d = b.compute()"
   ]
  },
  {
   "cell_type": "code",
   "execution_count": null,
   "id": "70532445-6473-400f-83d4-68a6569143a4",
   "metadata": {},
   "outputs": [],
   "source": [
    "d"
   ]
  },
  {
   "cell_type": "code",
   "execution_count": null,
   "id": "fb5b8a7c-5a32-4dd8-9986-70e452f929c1",
   "metadata": {},
   "outputs": [],
   "source": [
    "import matplotlib.pyplot as plt \n",
    "plt.plot(d)"
   ]
  },
  {
   "cell_type": "code",
   "execution_count": null,
   "id": "de5338c8-8952-434c-a45c-e5ce596e98ac",
   "metadata": {},
   "outputs": [],
   "source": []
  }
 ],
 "metadata": {
  "kernelspec": {
   "display_name": "clouddrift",
   "language": "python",
   "name": "clouddrift"
  },
  "language_info": {
   "codemirror_mode": {
    "name": "ipython",
    "version": 3
   },
   "file_extension": ".py",
   "mimetype": "text/x-python",
   "name": "python",
   "nbconvert_exporter": "python",
   "pygments_lexer": "ipython3",
   "version": "3.10.1"
  }
 },
 "nbformat": 4,
 "nbformat_minor": 5
}
