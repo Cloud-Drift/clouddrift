{
 "cells": [
  {
   "cell_type": "markdown",
   "id": "4c16a682-6f8b-4b6b-aa2a-89991a2ceb0d",
   "metadata": {},
   "source": [
    "# Timeseries module"
   ]
  },
  {
   "cell_type": "code",
   "execution_count": null,
   "id": "89a99aa3-250b-4754-9dfa-1a42426562d3",
   "metadata": {},
   "outputs": [],
   "source": [
    "import sys\n",
    "import matplotlib.pyplot as plt\n",
    "import numpy as np\n",
    "from datetime import datetime\n",
    "\n",
    "sys.path.insert(0, '../')\n",
    "from clouddrift.dataformat import ragged_array\n",
    "from clouddrift import timeseries"
   ]
  },
  {
   "cell_type": "markdown",
   "id": "7e2f4254-b96f-4123-a438-a485766f98bf",
   "metadata": {},
   "source": [
    "## Create a ragged array for the demonstration"
   ]
  },
  {
   "cell_type": "code",
   "execution_count": null,
   "id": "cf38c6a5-6f86-45da-b7d2-18c19af85bbf",
   "metadata": {},
   "outputs": [],
   "source": [
    "from data import gdp\n",
    "\n",
    "drifter_ids = gdp.download(n_random_id=100)\n",
    "\n",
    "# keep only required variables (from coords, metadata, and data)\n",
    "coords = {'ids': 'ids', 'time': 'time', 'lon': 'longitude', 'lat': 'latitude'}\n",
    "metadata = ['rowsize']\n",
    "data = ['ve', 'vn']\n",
    "\n",
    "ra = ragged_array.from_files(drifter_ids,\n",
    "                         gdp.preprocess, # function of the dataset\n",
    "                         coords, \n",
    "                         metadata, \n",
    "                         data,\n",
    "                         rowsize_func=gdp.rowsize\n",
    "                        )\n",
    "\n",
    "ds = ra.to_awkward()  # return an Awkward Array"
   ]
  },
  {
   "cell_type": "code",
   "execution_count": null,
   "id": "a1e0eb7b-06c2-41ab-a54d-17b63e5f3bfa",
   "metadata": {},
   "outputs": [],
   "source": [
    "%%time\n",
    "ret = timeseries.periodogram(ds.obs.ve + 1j*ds.obs.vn)"
   ]
  },
  {
   "cell_type": "code",
   "execution_count": null,
   "id": "3f4a9a11-d590-4fbc-a313-332bbd57a82b",
   "metadata": {},
   "outputs": [],
   "source": [
    "# selected trajectory [0,100]\n",
    "i = 42\n",
    "\n",
    "# calculate inertial frequency in cycle per day [cpd] from the mean latitude of trajectory\n",
    "omega = 7.2921159e-5  # Earth's rotation rate [rad/s]\n",
    "seconds_per_day = 60*60*24  # [s]\n",
    "fi = -2*omega*(seconds_per_day/(2*np.pi))*np.sin(np.mean(np.radians(ds.obs.lat[i])))\n",
    "\n",
    "# define frequency scale/abscissa\n",
    "dt = 1/24  # [-]\n",
    "f = np.fft.fftfreq(ds.rowsize[i], dt) \n",
    "ss = np.log10(ret[i])  # spectrum of the ith trajectory \n",
    "\n",
    "fig = plt.figure(dpi=100)\n",
    "ax = fig.add_subplot(1,1,1)\n",
    "\n",
    "h1, = ax.plot(np.fft.fftshift(f), np.fft.fftshift(ss), scaley=True, label='Spectrum', linewidth=0.5)\n",
    "h2 = ax.axvline(x=fi,color='k',linestyle=':', label='Inertial frequency', linewidth=0.5)\n",
    "ax.legend(frameon=False)\n",
    "ax.set_ylabel('PSD (m$^2$ s$^{-2}$ cpd$^{-1}$)')\n",
    "ax.set_xlabel('Frequency [cpd]');"
   ]
  },
  {
   "cell_type": "code",
   "execution_count": null,
   "id": "6bed19af",
   "metadata": {},
   "outputs": [],
   "source": []
  }
 ],
 "metadata": {
  "kernelspec": {
   "display_name": "clouddrift",
   "language": "python",
   "name": "clouddrift"
  },
  "language_info": {
   "codemirror_mode": {
    "name": "ipython",
    "version": 3
   },
   "file_extension": ".py",
   "mimetype": "text/x-python",
   "name": "python",
   "nbconvert_exporter": "python",
   "pygments_lexer": "ipython3",
   "version": "3.10.5"
  }
 },
 "nbformat": 4,
 "nbformat_minor": 5
}
