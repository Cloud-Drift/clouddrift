{
 "cells": [
  {
   "cell_type": "markdown",
   "id": "6426c30b-df03-46a9-8fb7-57ddf404683e",
   "metadata": {
    "tags": []
   },
   "source": [
    "# Global Drifter Program (GDP 6-hourly data)\n",
    "\n",
    "To process the 6-hourly dataset, we follow the same steps described in `dataformat-gdp.ipynb`. Only difference is that we have to defined a new preprocessing functions (`data/gdp6h.py`) to handle the slight differences between the format of the individual NetCDF archives."
   ]
  },
  {
   "cell_type": "code",
   "execution_count": null,
   "id": "6af3634f-be14-43af-8092-8be2c95ebc17",
   "metadata": {},
   "outputs": [],
   "source": [
    "import sys\n",
    "sys.path.insert(0, '../')\n",
    "from clouddrift.dataformat import ragged_array"
   ]
  },
  {
   "cell_type": "markdown",
   "id": "2aded949-7d07-47fd-b184-50574c2600ba",
   "metadata": {},
   "source": [
    "## Dataset-specific functions\n",
    "- `gdp6h.preprocess`: applies preprocessing routine and returned a `Dataset` for a specific trajectory \n",
    "- `gdp6h.download`: fetch the NetCDF from the server\n",
    "- `gdp6h.rowsize [Optional]`: return the dimension of a specific trajectory to speed up the preprocessing"
   ]
  },
  {
   "cell_type": "code",
   "execution_count": null,
   "id": "50aa29c2-5cfa-4ca7-ada3-7c3a6ec3b384",
   "metadata": {},
   "outputs": [],
   "source": [
    "from data import gdp6h"
   ]
  },
  {
   "cell_type": "markdown",
   "id": "c42a0c03-fcb3-4131-af3c-e6e7bea4e833",
   "metadata": {},
   "source": [
    "# Download\n",
    "\n",
    "The download function will store the raw dataset into the `data/raw/gdp-6hourly/` folder specified in the `gdp6h.py` module. By default `download()` will download the complete GPD dataset (containing 25,587 files as of May 2022) from the AOML `https` server. It is also possible to specify a list of drifter IDs (`drifter_ids`) or a number of random IDs (`n_random_id`) to retrieve. The function returns the list of `drifters_ids` that was downloaded that is needed to create the ragged array."
   ]
  },
  {
   "cell_type": "code",
   "execution_count": null,
   "id": "ff938826-a6af-4e18-b8b1-39d236c92608",
   "metadata": {},
   "outputs": [],
   "source": [
    "gdp6h.download?"
   ]
  },
  {
   "cell_type": "code",
   "execution_count": null,
   "id": "b162c91d-fc2a-4a86-9a0d-361e3af89b28",
   "metadata": {},
   "outputs": [],
   "source": [
    "drifter_ids = gdp6h.download(n_random_id=100)"
   ]
  },
  {
   "cell_type": "code",
   "execution_count": null,
   "id": "8b9dbf63-4292-4f5c-bb12-1c1ff5364a55",
   "metadata": {},
   "outputs": [],
   "source": [
    "drifter_ids[:5]"
   ]
  },
  {
   "cell_type": "markdown",
   "id": "e35f6f75-f7fb-4ba3-814f-46e3b8cc7d34",
   "metadata": {},
   "source": [
    "Once the data downloaded, it is possible to create the ragged array and either save a netCDF, parquet file, or simply output an Awkward Array that can be used for analysis."
   ]
  },
  {
   "cell_type": "markdown",
   "id": "5720e81d-69af-47b5-9ec3-998cebf2b3a0",
   "metadata": {},
   "source": [
    "# Ragged array from a series of files"
   ]
  },
  {
   "cell_type": "code",
   "execution_count": null,
   "id": "59137333-eed9-406f-8af2-e3a782fad210",
   "metadata": {},
   "outputs": [],
   "source": [
    "coords = {'ids': 'ids', 'time': 'time', 'lon': 'longitude', 'lat': 'latitude'}\n",
    "metadata = ['ID', 'rowsize', 'WMO', 'expno', 'deploy_date', 'deploy_lat', 'deploy_lon', 'end_date', 'end_lat', 'end_lon', 'drogue_lost_date', 'typedeath', 'typebuoy', 'DeployingShip', 'DeploymentStatus', 'BuoyTypeManufacturer', 'BuoyTypeSensorArray', 'CurrentProgram', 'PurchaserFunding', 'SensorUpgrade', 'Transmissions', 'DeployingCountry', 'DeploymentComments', 'ManufactureYear', 'ManufactureMonth', 'ManufactureSensorType', 'ManufactureVoltage', 'FloatDiameter', 'SubsfcFloatPresence', 'DrogueType', 'DrogueLength', 'DrogueBallast', 'DragAreaAboveDrogue', 'DragAreaOfDrogue', 'DragAreaRatio', 'DrogueCenterDepth', 'DrogueDetectSensor']\n",
    "data = ['ve', 'vn', 'temp', 'err_lat', 'err_lon', 'err_temp', 'drogue_status']\n",
    "\n",
    "ra = ragged_array.from_files(\n",
    "    drifter_ids,\n",
    "    gdp6h.preprocess,\n",
    "    coords, \n",
    "    metadata,\n",
    "    data,\n",
    "    rowsize_func=gdp6h.rowsize\n",
    ")"
   ]
  },
  {
   "cell_type": "markdown",
   "id": "00705eef-eb9b-4cdd-958d-e9afb832e7f0",
   "metadata": {},
   "source": [
    "## Export"
   ]
  },
  {
   "cell_type": "code",
   "execution_count": null,
   "id": "24e377c2-2fba-4378-8c77-4f6747fa51f3",
   "metadata": {},
   "outputs": [],
   "source": [
    "ra.to_parquet('../data/process/gdp_6h.parquet')\n",
    "ra.to_netcdf('../data/process/gdp_6h.nc')"
   ]
  },
  {
   "cell_type": "markdown",
   "id": "cae94b4a-9be6-42b0-8271-0afd183b3057",
   "metadata": {},
   "source": [
    "## Import"
   ]
  },
  {
   "cell_type": "code",
   "execution_count": null,
   "id": "f3d608c0-d705-4002-8ef8-6f9dcddeb8c7",
   "metadata": {},
   "outputs": [],
   "source": [
    "ra2 = ragged_array.from_parquet('../data/process/gdp_6h.parquet')"
   ]
  },
  {
   "cell_type": "code",
   "execution_count": null,
   "id": "b284ec72-2307-4022-9a69-801f09dc6dcf",
   "metadata": {},
   "outputs": [],
   "source": [
    "ra2"
   ]
  },
  {
   "cell_type": "markdown",
   "id": "95816311-3e8a-4a83-b1ab-bcca807efe80",
   "metadata": {},
   "source": [
    "## Awkward Array"
   ]
  },
  {
   "cell_type": "code",
   "execution_count": null,
   "id": "7334d731-4bfd-4e29-9196-bd68953df007",
   "metadata": {},
   "outputs": [],
   "source": [
    "ds = ra2.to_awkward()"
   ]
  },
  {
   "cell_type": "code",
   "execution_count": null,
   "id": "6b33d76b-f937-4f89-b8c2-64712355b8eb",
   "metadata": {},
   "outputs": [],
   "source": [
    "ds.ID"
   ]
  },
  {
   "cell_type": "code",
   "execution_count": null,
   "id": "58b48833-387a-4fe7-a144-1e1628959ee8",
   "metadata": {},
   "outputs": [],
   "source": [
    "ds.fields"
   ]
  },
  {
   "cell_type": "code",
   "execution_count": null,
   "id": "f4b78c8a-177b-4842-a8c9-9f98daaa27e7",
   "metadata": {},
   "outputs": [],
   "source": [
    "ds.obs.fields"
   ]
  }
 ],
 "metadata": {
  "kernelspec": {
   "display_name": "clouddrift",
   "language": "python",
   "name": "clouddrift"
  },
  "language_info": {
   "codemirror_mode": {
    "name": "ipython",
    "version": 3
   },
   "file_extension": ".py",
   "mimetype": "text/x-python",
   "name": "python",
   "nbconvert_exporter": "python",
   "pygments_lexer": "ipython3",
   "version": "3.10.5"
  }
 },
 "nbformat": 4,
 "nbformat_minor": 5
}
