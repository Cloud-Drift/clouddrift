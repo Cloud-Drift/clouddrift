{
 "cells": [
  {
   "cell_type": "markdown",
   "id": "6426c30b-df03-46a9-8fb7-57ddf404683e",
   "metadata": {
    "tags": []
   },
   "source": [
    "# Global Drifter Program (GDP)\n",
    "\n",
    "As part of this Notebook, we will use the *GDP historical dataset* to highlight the required steps to preprocess and dataset into a format that can be ingest by the *CloudDrift* library."
   ]
  },
  {
   "cell_type": "markdown",
   "id": "d7d4c013-74b6-4444-828c-b74d6231141a",
   "metadata": {},
   "source": [
    "## Dataformat module"
   ]
  },
  {
   "cell_type": "markdown",
   "id": "6d5e2a1a-2e8c-464f-8075-357c9b8313c2",
   "metadata": {},
   "source": [
    "The `dataformat.py` module contains the class `create_ragged_array` to transform a series of archives into an *Awkward Array* where all variables is stored as a *ragged array*. The module also contains `read_from_netcdf` and `read_from_parquet` to initialize the *Awkward Array* directly from an previously preprocessed archive. Right now, it *only* supports local array but we will soon add the possibility of *lazy-loading* array stored in the Cloud."
   ]
  },
  {
   "cell_type": "code",
   "execution_count": 68,
   "id": "6af3634f-be14-43af-8092-8be2c95ebc17",
   "metadata": {},
   "outputs": [],
   "source": [
    "import sys\n",
    "sys.path.insert(0, '../')\n",
    "from clouddrift import dataformat"
   ]
  },
  {
   "cell_type": "markdown",
   "id": "665b9136-d79f-49e7-9bf8-12ea494cf196",
   "metadata": {},
   "source": [
    "The main class of this module is *create_ragged_array* and is used to create a single archive that can be saved to a netCDF or Parquet file. The signature of the class is:"
   ]
  },
  {
   "cell_type": "code",
   "execution_count": 69,
   "id": "95c32a79-e643-45d4-810f-f93d923e5d5e",
   "metadata": {},
   "outputs": [
    {
     "data": {
      "text/plain": [
       "\u001b[0;31mInit signature:\u001b[0m\n",
       "\u001b[0mdataformat\u001b[0m\u001b[0;34m.\u001b[0m\u001b[0mcreate_ragged_array\u001b[0m\u001b[0;34m(\u001b[0m\u001b[0;34m\u001b[0m\n",
       "\u001b[0;34m\u001b[0m    \u001b[0mindices\u001b[0m\u001b[0;34m:\u001b[0m \u001b[0mlist\u001b[0m\u001b[0;34m,\u001b[0m\u001b[0;34m\u001b[0m\n",
       "\u001b[0;34m\u001b[0m    \u001b[0mpreprocess_func\u001b[0m\u001b[0;34m:\u001b[0m \u001b[0mcollections\u001b[0m\u001b[0;34m.\u001b[0m\u001b[0mabc\u001b[0m\u001b[0;34m.\u001b[0m\u001b[0mCallable\u001b[0m\u001b[0;34m[\u001b[0m\u001b[0;34m[\u001b[0m\u001b[0mint\u001b[0m\u001b[0;34m]\u001b[0m\u001b[0;34m,\u001b[0m \u001b[0mxarray\u001b[0m\u001b[0;34m.\u001b[0m\u001b[0mcore\u001b[0m\u001b[0;34m.\u001b[0m\u001b[0mdataset\u001b[0m\u001b[0;34m.\u001b[0m\u001b[0mDataset\u001b[0m\u001b[0;34m]\u001b[0m\u001b[0;34m,\u001b[0m\u001b[0;34m\u001b[0m\n",
       "\u001b[0;34m\u001b[0m    \u001b[0mvars_coords\u001b[0m\u001b[0;34m:\u001b[0m \u001b[0mdict\u001b[0m\u001b[0;34m,\u001b[0m\u001b[0;34m\u001b[0m\n",
       "\u001b[0;34m\u001b[0m    \u001b[0mvars_meta\u001b[0m\u001b[0;34m:\u001b[0m \u001b[0mlist\u001b[0m \u001b[0;34m=\u001b[0m \u001b[0;34m[\u001b[0m\u001b[0;34m]\u001b[0m\u001b[0;34m,\u001b[0m\u001b[0;34m\u001b[0m\n",
       "\u001b[0;34m\u001b[0m    \u001b[0mvars_data\u001b[0m\u001b[0;34m:\u001b[0m \u001b[0mlist\u001b[0m \u001b[0;34m=\u001b[0m \u001b[0;34m[\u001b[0m\u001b[0;34m]\u001b[0m\u001b[0;34m,\u001b[0m\u001b[0;34m\u001b[0m\n",
       "\u001b[0;34m\u001b[0m    \u001b[0mrowsize_func\u001b[0m\u001b[0;34m:\u001b[0m \u001b[0mcollections\u001b[0m\u001b[0;34m.\u001b[0m\u001b[0mabc\u001b[0m\u001b[0;34m.\u001b[0m\u001b[0mCallable\u001b[0m\u001b[0;34m[\u001b[0m\u001b[0;34m[\u001b[0m\u001b[0mint\u001b[0m\u001b[0;34m]\u001b[0m\u001b[0;34m,\u001b[0m \u001b[0mint\u001b[0m\u001b[0;34m]\u001b[0m \u001b[0;34m=\u001b[0m \u001b[0;32mNone\u001b[0m\u001b[0;34m,\u001b[0m\u001b[0;34m\u001b[0m\n",
       "\u001b[0;34m\u001b[0m\u001b[0;34m)\u001b[0m\u001b[0;34m\u001b[0m\u001b[0;34m\u001b[0m\u001b[0m\n",
       "\u001b[0;31mDocstring:\u001b[0m      <no docstring>\n",
       "\u001b[0;31mFile:\u001b[0m           /nexsan/people/pmiron/projects_mars/clouddrift/clouddrift/dataformat.py\n",
       "\u001b[0;31mType:\u001b[0m           type\n",
       "\u001b[0;31mSubclasses:\u001b[0m     \n"
      ]
     },
     "metadata": {},
     "output_type": "display_data"
    }
   ],
   "source": [
    "dataformat.create_ragged_array?"
   ]
  },
  {
   "cell_type": "markdown",
   "id": "2aded949-7d07-47fd-b184-50574c2600ba",
   "metadata": {},
   "source": [
    "## Dataset-specific functions"
   ]
  },
  {
   "cell_type": "markdown",
   "id": "c133b096-ee61-4018-b797-d43cc9db7329",
   "metadata": {},
   "source": [
    "Since each dataset is different, we have to create specific functions to preprocess the dataset (`preprocess_func`) and return the metadata and data of a single trajectory. This was inspired by the [Pangeo Forge](https://pangeo-forge.readthedocs.io/en/latest/) project. The class *create_ragged_array* will use those functions to create the single archive of ragged arrays. More precisely, it requires:\n",
    "- a list of indices (or identification number) that will be concatenate into the ragged array format\n",
    "- a preprecessing function with the following signature:\n",
    "    - `Signature: preprocess_func(index: int) -> xarray.core.dataset.Dataset`, where the index parameter is an identifier of a trajectory, e.g. the identification number of an Argo float) and returns an *xarray Dataset*. \n",
    "- a dictionnary mapping the mandatory coordinates list to the name of those variables in the dataset, e.g.\n",
    "    coords = {'ids': 'number', 'time': 't', 'longitude': 'lon', 'latitude': 'lat'}\n",
    "- an optional list of variable names containing metadata information about the trajectory (size: 1 per trajectory)\n",
    "- an optional list of variable names containing the data along the trajectory (size: number of observations per trajectory)\n",
    "- an optional funcition that returns directly the number of observation of a trajectory (`Signature: rowsize_func(index: int) -> int`)\n",
    "    \n",
    "This function can performs all type of operations, such as formatting the date, changing the type of variables, modifying the metadata, etc. We provide preprocessing function for different datasets in the `data/recipes/` folder. The class also needs to *initially* calculate the sum of all observations. By default, this is performed using `lambda i: self.preprocess_func(i).dims['obs']`. To *speed up* this process, in the situation where a lot of preprocessing are performed, it is possible to provide a second function `rowsize_func`, that returns directly the number of observation of a trajectory (`Signature: rowsize_func(index: int) -> int`)\n",
    "\n",
    "Finally, we included an function to download (or update) the GDP dataset."
   ]
  },
  {
   "cell_type": "code",
   "execution_count": 70,
   "id": "50aa29c2-5cfa-4ca7-ada3-7c3a6ec3b384",
   "metadata": {},
   "outputs": [],
   "source": [
    "from data import gdp6h"
   ]
  },
  {
   "cell_type": "markdown",
   "id": "c42a0c03-fcb3-4131-af3c-e6e7bea4e833",
   "metadata": {},
   "source": [
    "# Download\n",
    "\n",
    "The download function will store the raw dataset into the `data/raw/` folder specified in the `gdp.py` module. By default `download_gdp_data()` will download the complete GPD dataset (containing 17,324 files as of May 2022) from the AOML `https` server.\n",
    "\n",
    "**Note**: this Notebook is very similar to the `data-glad.ipynb` Notebook because very few functions have to be created to transform a new dataset. We hope that this will encourage people to use this dataformat and utilize the CloudDrift library."
   ]
  },
  {
   "cell_type": "code",
   "execution_count": 71,
   "id": "ff938826-a6af-4e18-b8b1-39d236c92608",
   "metadata": {},
   "outputs": [
    {
     "data": {
      "text/plain": [
       "\u001b[0;31mSignature:\u001b[0m \u001b[0mgdp6h\u001b[0m\u001b[0;34m.\u001b[0m\u001b[0mdownload\u001b[0m\u001b[0;34m(\u001b[0m\u001b[0mdrifter_ids\u001b[0m\u001b[0;34m:\u001b[0m \u001b[0mlist\u001b[0m \u001b[0;34m=\u001b[0m \u001b[0;32mNone\u001b[0m\u001b[0;34m,\u001b[0m \u001b[0mn_random_id\u001b[0m\u001b[0;34m:\u001b[0m \u001b[0mint\u001b[0m \u001b[0;34m=\u001b[0m \u001b[0;32mNone\u001b[0m\u001b[0;34m)\u001b[0m\u001b[0;34m\u001b[0m\u001b[0;34m\u001b[0m\u001b[0m\n",
       "\u001b[0;31mDocstring:\u001b[0m\n",
       "Download individual netCDF files from the AOML server\n",
       "\n",
       ":param drifter_ids [list]: list of drifter to retrieve (Default: all)\n",
       ":param n_random_id [int]: randomly select n drifter netCDF files\n",
       ":return drifters_ids [list]: list of retrived drifter\n",
       "\u001b[0;31mFile:\u001b[0m      /nexsan/people/pmiron/projects_mars/clouddrift/data/gdp6h.py\n",
       "\u001b[0;31mType:\u001b[0m      function\n"
      ]
     },
     "metadata": {},
     "output_type": "display_data"
    }
   ],
   "source": [
    "gdp6h.download?"
   ]
  },
  {
   "cell_type": "markdown",
   "id": "c7d977de-6162-4f63-b576-e9377d1d4f3e",
   "metadata": {},
   "source": [
    "It is possible to prodive a list of `drifter_ids` to retrieve a subset and/or specified a integer `n_random_id` to randomly retrieve `n` trajectory. The function returns the list of `drifters_ids` that was downloaded, and can be passed to create the ragged array."
   ]
  },
  {
   "cell_type": "code",
   "execution_count": 88,
   "id": "b162c91d-fc2a-4a86-9a0d-361e3af89b28",
   "metadata": {},
   "outputs": [
    {
     "name": "stderr",
     "output_type": "stream",
     "text": [
      "100%|██████████████████████████████████████████████████████████████████████████████████████████████████████████████████████████████████████████| 50/50 [00:00<00:00, 768.10it/s]\n"
     ]
    }
   ],
   "source": [
    "drifter_ids = gdp6h.download(n_random_id=50)"
   ]
  },
  {
   "cell_type": "markdown",
   "id": "e35f6f75-f7fb-4ba3-814f-46e3b8cc7d34",
   "metadata": {},
   "source": [
    "Once the data downloaded, it is possible to create the ragged array and either save a netCDF, parquet file, or simply output an Awkward Array that can be used for analysis."
   ]
  },
  {
   "cell_type": "code",
   "execution_count": 89,
   "id": "59137333-eed9-406f-8af2-e3a782fad210",
   "metadata": {
    "tags": []
   },
   "outputs": [
    {
     "name": "stderr",
     "output_type": "stream",
     "text": [
      "Calculating the number of observations: 100%|███████████████████████████████████████████████████████████████████████████████████████████████████| 49/49 [00:04<00:00, 10.51it/s]\n",
      "/home/pmiron/.conda/envs/research/lib/python3.10/site-packages/xarray/coding/variables.py:140: FutureWarning: elementwise comparison failed; returning scalar instead, but in the future will perform elementwise comparison\n",
      "  condition |= data == fv\n",
      "Filling the ragged array: 100%|█████████████████████████████████████████████████████████████████████████████████████████████████████████████████| 49/49 [00:04<00:00, 10.24it/s]\n"
     ]
    }
   ],
   "source": [
    "coords = {'ids': 'ids', 'time': 'time', 'lon': 'longitude', 'lat': 'latitude'}\n",
    "metadata = ['ID', 'rowsize', 'WMO', 'expno', 'deploy_date', 'deploy_lat', 'deploy_lon', 'end_date', 'end_lat', 'end_lon', 'drogue_lost_date', 'typedeath', 'typebuoy', 'DeployingShip', 'DeploymentStatus', 'BuoyTypeManufacturer', 'BuoyTypeSensorArray', 'CurrentProgram', 'PurchaserFunding', 'SensorUpgrade', 'Transmissions', 'DeployingCountry', 'DeploymentComments', 'ManufactureYear', 'ManufactureMonth', 'ManufactureSensorType', 'ManufactureVoltage', 'FloatDiameter', 'SubsfcFloatPresence', 'DrogueType', 'DrogueLength', 'DrogueBallast', 'DragAreaAboveDrogue', 'DragAreaOfDrogue', 'DragAreaRatio', 'DrogueCenterDepth', 'DrogueDetectSensor']\n",
    "data = ['ve', 'vn', 'temp', 'err_lat', 'err_lon', 'err_temp', 'drogue_status']\n",
    "\n",
    "ra = dataformat.create_ragged_array(drifter_ids,\n",
    "                         gdp6h.preprocess,\n",
    "                         coords, \n",
    "                         metadata, \n",
    "                         data,\n",
    "                         rowsize_func=gdp6h.rowsize\n",
    "                        )"
   ]
  },
  {
   "cell_type": "code",
   "execution_count": 90,
   "id": "a16d497d-e1b9-4a2f-950b-40c9c747a6cd",
   "metadata": {},
   "outputs": [],
   "source": [
    "ds = ra.to_awkward()"
   ]
  },
  {
   "cell_type": "code",
   "execution_count": 92,
   "id": "b8eba114-aadf-4ce2-b79d-9c9c2fa76934",
   "metadata": {},
   "outputs": [],
   "source": [
    "import numpy as np\n",
    "import time\n",
    "import xarray as xr"
   ]
  },
  {
   "cell_type": "code",
   "execution_count": 93,
   "id": "09557554-e945-4b06-8683-781904d12bb6",
   "metadata": {},
   "outputs": [],
   "source": [
    "ds = ra.to_awkward()"
   ]
  },
  {
   "cell_type": "code",
   "execution_count": 95,
   "id": "02a8f202-e19d-4bd2-b1b0-610fb11e6d4e",
   "metadata": {},
   "outputs": [
    {
     "data": {
      "text/plain": [
       "'buoydata_10001_15000'"
      ]
     },
     "execution_count": 95,
     "metadata": {},
     "output_type": "execute_result"
    }
   ],
   "source": [
    "gdp6h.dict_id[2529260]"
   ]
  },
  {
   "cell_type": "code",
   "execution_count": 96,
   "id": "04aaa1bb-d8c2-4e7d-b2fb-9c44738deee0",
   "metadata": {},
   "outputs": [
    {
     "name": "stdout",
     "output_type": "stream",
     "text": [
      "['2007-10-23T16:59:00.000000000']\n",
      "['2008-11-14T21:00:00.000000000']\n"
     ]
    }
   ],
   "source": [
    "print(gdp6h.df.loc[gdp6h.df.ID == 2529260]['Deployment_time'].values)\n",
    "print(gdp6h.df.loc[gdp6h.df.ID == 2529260]['End_time'].values)"
   ]
  },
  {
   "cell_type": "code",
   "execution_count": 97,
   "id": "a5c15de6-dcec-4dd4-83c4-b5cd8ba560a4",
   "metadata": {},
   "outputs": [
    {
     "name": "stderr",
     "output_type": "stream",
     "text": [
      "/home/pmiron/.conda/envs/research/lib/python3.10/site-packages/xarray/coding/variables.py:140: FutureWarning: elementwise comparison failed; returning scalar instead, but in the future will perform elementwise comparison\n",
      "  condition |= data == fv\n",
      "/home/pmiron/.conda/envs/research/lib/python3.10/site-packages/xarray/coding/variables.py:140: FutureWarning: elementwise comparison failed; returning scalar instead, but in the future will perform elementwise comparison\n",
      "  condition |= data == fv\n",
      "/home/pmiron/.conda/envs/research/lib/python3.10/site-packages/xarray/coding/variables.py:140: FutureWarning: elementwise comparison failed; returning scalar instead, but in the future will perform elementwise comparison\n",
      "  condition |= data == fv\n",
      "/home/pmiron/.conda/envs/research/lib/python3.10/site-packages/xarray/coding/variables.py:140: FutureWarning: elementwise comparison failed; returning scalar instead, but in the future will perform elementwise comparison\n",
      "  condition |= data == fv\n",
      "/home/pmiron/.conda/envs/research/lib/python3.10/site-packages/xarray/coding/variables.py:140: FutureWarning: elementwise comparison failed; returning scalar instead, but in the future will perform elementwise comparison\n",
      "  condition |= data == fv\n",
      "/home/pmiron/.conda/envs/research/lib/python3.10/site-packages/xarray/coding/variables.py:140: FutureWarning: elementwise comparison failed; returning scalar instead, but in the future will perform elementwise comparison\n",
      "  condition |= data == fv\n",
      "/home/pmiron/.conda/envs/research/lib/python3.10/site-packages/xarray/coding/variables.py:140: FutureWarning: elementwise comparison failed; returning scalar instead, but in the future will perform elementwise comparison\n",
      "  condition |= data == fv\n"
     ]
    }
   ],
   "source": [
    "x = xr.open_dataset('../data/raw/gdp-6hourly/buoydata_10001_15000/drifter_2529260.nc').longitude\n",
    "y = xr.open_dataset('../data/raw/gdp-6hourly/buoydata_10001_15000/drifter_2529260.nc').latitude"
   ]
  },
  {
   "cell_type": "code",
   "execution_count": 98,
   "id": "03d9ef89-8a6e-4d2e-86bd-1904673aa351",
   "metadata": {},
   "outputs": [
    {
     "name": "stderr",
     "output_type": "stream",
     "text": [
      "/home/pmiron/.conda/envs/research/lib/python3.10/site-packages/xarray/coding/variables.py:140: FutureWarning: elementwise comparison failed; returning scalar instead, but in the future will perform elementwise comparison\n",
      "  condition |= data == fv\n",
      "/home/pmiron/.conda/envs/research/lib/python3.10/site-packages/xarray/coding/variables.py:140: FutureWarning: elementwise comparison failed; returning scalar instead, but in the future will perform elementwise comparison\n",
      "  condition |= data == fv\n"
     ]
    },
    {
     "data": {
      "text/plain": [
       "[<matplotlib.lines.Line2D at 0x7fd088651060>]"
      ]
     },
     "execution_count": 98,
     "metadata": {},
     "output_type": "execute_result"
    },
    {
     "data": {
      "image/png": "[encoded data removed]",
      "text/plain": [
       "<Figure size 432x288 with 1 Axes>"
      ]
     },
     "metadata": {
      "needs_background": "light"
     },
     "output_type": "display_data"
    }
   ],
   "source": [
    "import matplotlib.pyplot as plt\n",
    "plt.plot(x[0],y[0])"
   ]
  },
  {
   "cell_type": "code",
   "execution_count": 101,
   "id": "22d6056e-9b9e-45d9-88b4-ac00cc4f20ef",
   "metadata": {},
   "outputs": [
    {
     "name": "stdout",
     "output_type": "stream",
     "text": [
      "ID#7706884\t['1990-10-03T21:21:00.000000000'] - [1990-10-03T00:00:00]\n",
      "ID#7711671\t['1991-10-28T08:43:00.000000000'] - [1991-10-28T00:00:00]\n",
      "ID#9423473\t['1996-03-02T14:50:00.000000000'] - [1996-03-02T00:00:00]\n",
      "ID#9525575\t['1996-06-26T23:20:00.000000000'] - [1996-06-26T00:00:00]\n",
      "ID#9832423\t['1999-09-18T20:43:00.000000000'] - [1999-09-18T00:00:00]\n",
      "ID#9619711\t['2000-04-20T16:55:00.000000000'] - [2000-04-20T00:00:00]\n",
      "ID#9729733\t['2000-10-09T05:00:00.000000000'] - [2000-10-09T00:00:00]\n",
      "ID#9616618\t['2002-08-26T03:43:00.000000000'] - [2002-08-26T00:00:00]\n",
      "ID#39159\t['2004-01-05T15:12:00.000000000'] - [2004-01-05T00:00:00]\n",
      "ID#39235\t['2004-06-05T04:24:00.000000000'] - [2004-06-05T00:00:00]\n",
      "ID#39135\t['2004-08-15T14:31:00.000000000'] - [2004-08-15T00:00:00]\n",
      "ID#49588\t['2004-11-27T06:02:00.000000000'] - [2004-11-27T00:00:00]\n",
      "ID#46050\t['2005-05-16T20:26:00.000000000'] - [2005-05-16T00:00:00]\n",
      "ID#59324\t['2007-09-15T00:11:00.000000000'] - [2007-09-15T00:00:00]\n",
      "ID#71964\t['2008-01-12T07:38:00.000000000'] - [2008-01-12T00:00:00]\n",
      "ID#71306\t['2008-03-29T23:55:00.000000000'] - [2008-03-29T00:00:00]\n",
      "ID#67885\t['2008-08-29T08:16:00.000000000'] - [2008-08-29T00:00:00]\n",
      "ID#2529260\t['2008-11-14T21:00:00.000000000'] - [2009-03-12T00:00:00]\n",
      "ID#81886\t['2008-11-26T16:45:00.000000000'] - [2008-11-26T00:00:00]\n",
      "ID#91680\t['2009-09-29T17:19:00.000000000'] - [2009-09-29T00:00:00]\n",
      "ID#78854\t['2010-04-13T23:38:00.000000000'] - [2010-04-13T00:00:00]\n",
      "ID#47643\t['2011-01-30T20:16:00.000000000'] - [2011-01-30T00:00:00]\n",
      "ID#92906\t['2011-08-24T23:00:00.000000000'] - [2011-08-24T00:00:00]\n",
      "ID#39393\t['2011-12-10T22:55:00.000000000'] - [2011-12-10T00:00:00]\n",
      "ID#63810\t['2012-01-03T15:15:00.000000000'] - [2012-01-03T00:00:00]\n",
      "ID#40310\t['2012-03-09T16:03:00.000000000'] - [2012-03-09T00:00:00]\n",
      "ID#113648\t['2013-06-19T11:23:00.000000000'] - [2013-06-19T00:00:00]\n",
      "ID#116296\t['2014-04-17T23:40:00.000000000'] - [2014-04-17T00:00:00]\n",
      "ID#133208\t['2014-06-23T12:02:00.000000000'] - [2014-06-23T00:00:00]\n",
      "ID#127103\t['2015-10-16T15:49:00.000000000'] - [2015-10-16T00:00:00]\n",
      "ID#116412\t['2016-03-21T16:20:00.000000000'] - [2016-03-21T00:00:00]\n",
      "ID#116324\t['2016-07-31T16:28:00.000000000'] - [2016-07-31T00:00:00]\n",
      "ID#114890\t['2017-04-01T23:12:00.000000000'] - [2017-04-01T00:00:00]\n",
      "ID#64506390\t['2018-08-17T15:00:00.000000000'] - [2018-08-17T00:00:00]\n",
      "ID#66318870\t['2019-04-16T14:58:00.000000000'] - [2019-04-16T00:00:00]\n",
      "ID#66413950\t['2019-11-09T06:00:00.000000000'] - [2019-11-09T00:00:00]\n",
      "ID#64525000\t['2019-11-10T04:00:00.000000000'] - [2019-11-10T00:00:00]\n",
      "ID#63468290\t['2020-04-02T19:00:00.000000000'] - [2020-04-02T00:00:00]\n",
      "ID#65709780\t['2020-06-11T00:00:00.000000000'] - [2020-06-11T00:00:00]\n",
      "ID#65709950\t['2020-07-19T13:59:00.000000000'] - [2020-07-19T00:00:00]\n",
      "ID#64500780\t['2020-07-31T13:00:00.000000000'] - [2020-07-31T00:00:00]\n",
      "ID#66311030\t['2020-07-31T13:59:00.000000000'] - [2020-07-31T00:00:00]\n",
      "ID#66515820\t['2020-12-17T09:00:00.000000000'] - [2020-12-17T00:00:00]\n",
      "ID#64734820\t['2021-01-12T16:00:00.000000000'] - [2021-01-12T00:00:00]\n",
      "ID#66897260\t['2022-01-03T04:00:00.000000000'] - "
     ]
    },
    {
     "ename": "ValueError",
     "evalue": "cannot convert float NaN to integer",
     "output_type": "error",
     "traceback": [
      "\u001b[0;31m---------------------------------------------------------------------------\u001b[0m",
      "\u001b[0;31mValueError\u001b[0m                                Traceback (most recent call last)",
      "Input \u001b[0;32mIn [101]\u001b[0m, in \u001b[0;36m<cell line: 4>\u001b[0;34m()\u001b[0m\n\u001b[1;32m      5\u001b[0m j \u001b[38;5;241m=\u001b[39m v \u001b[38;5;28;01mif\u001b[39;00m v \u001b[38;5;241m<\u001b[39m threshold \u001b[38;5;28;01melse\u001b[39;00m v\u001b[38;5;241m+\u001b[39mpad\n\u001b[1;32m      6\u001b[0m \u001b[38;5;28mprint\u001b[39m(\u001b[38;5;124mf\u001b[39m\u001b[38;5;124m\"\u001b[39m\u001b[38;5;124mID#\u001b[39m\u001b[38;5;132;01m{\u001b[39;00mv\u001b[38;5;132;01m}\u001b[39;00m\u001b[38;5;130;01m\\t\u001b[39;00m\u001b[38;5;132;01m{\u001b[39;00mgdp6h\u001b[38;5;241m.\u001b[39mdf\u001b[38;5;241m.\u001b[39mloc[gdp6h\u001b[38;5;241m.\u001b[39mdf\u001b[38;5;241m.\u001b[39mID \u001b[38;5;241m==\u001b[39m j][\u001b[38;5;124m'\u001b[39m\u001b[38;5;124mEnd_time\u001b[39m\u001b[38;5;124m'\u001b[39m]\u001b[38;5;241m.\u001b[39mvalues\u001b[38;5;132;01m}\u001b[39;00m\u001b[38;5;124m - \u001b[39m\u001b[38;5;124m\"\u001b[39m, end\u001b[38;5;241m=\u001b[39m\u001b[38;5;124m'\u001b[39m\u001b[38;5;124m'\u001b[39m)\n\u001b[0;32m----> 7\u001b[0m \u001b[38;5;28mprint\u001b[39m(\u001b[38;5;124mf\u001b[39m\u001b[38;5;124m\"\u001b[39m\u001b[38;5;132;01m{\u001b[39;00mtime\u001b[38;5;241m.\u001b[39mstrftime(\u001b[38;5;124m'\u001b[39m\u001b[38;5;124m[\u001b[39m\u001b[38;5;124m%\u001b[39m\u001b[38;5;124mY-\u001b[39m\u001b[38;5;124m%\u001b[39m\u001b[38;5;124mm-\u001b[39m\u001b[38;5;132;01m%d\u001b[39;00m\u001b[38;5;124mT\u001b[39m\u001b[38;5;124m%\u001b[39m\u001b[38;5;124mH:\u001b[39m\u001b[38;5;124m%\u001b[39m\u001b[38;5;124mM:\u001b[39m\u001b[38;5;124m%\u001b[39m\u001b[38;5;124mS]\u001b[39m\u001b[38;5;124m'\u001b[39m, time\u001b[38;5;241m.\u001b[39mgmtime(\u001b[38;5;28mint\u001b[39m(ds[\u001b[38;5;124m'\u001b[39m\u001b[38;5;124mend_date\u001b[39m\u001b[38;5;124m'\u001b[39m][i])))\u001b[38;5;132;01m}\u001b[39;00m\u001b[38;5;124m\"\u001b[39m)\n",
      "\u001b[0;31mValueError\u001b[0m: cannot convert float NaN to integer"
     ]
    }
   ],
   "source": [
    "pad = 300234000000000\n",
    "threshold = 60000000\n",
    "    \n",
    "for i,v in enumerate(drifter_ids):\n",
    "    j = v if v < threshold else v+pad\n",
    "    print(f\"ID#{v}\\t{gdp6h.df.loc[gdp6h.df.ID == j]['End_time'].values} - \", end='')\n",
    "    print(f\"{time.strftime('[%Y-%m-%dT%H:%M:%S]', time.gmtime(int(ds['end_date'][i])))}\")"
   ]
  },
  {
   "cell_type": "code",
   "execution_count": 19,
   "id": "8966734c-c7d6-458c-ae65-fdf1a114fb42",
   "metadata": {},
   "outputs": [
    {
     "name": "stdout",
     "output_type": "stream",
     "text": [
      "['2008-08-29T08:16:00.000000000']\n",
      "['2008-11-14T21:00:00.000000000']\n",
      "['2008-11-26T16:45:00.000000000']\n",
      "['2008-12-22T08:47:00.000000000']\n",
      "['2009-01-04T21:33:00.000000000']\n"
     ]
    }
   ],
   "source": [
    "for i in drifter_ids[34:39]:\n",
    "    j = i if i < threshold else i+pad\n",
    "    print(gdp6h.df.loc[gdp6h.df.ID == j]['End_time'].values)"
   ]
  },
  {
   "cell_type": "markdown",
   "id": "7dd56acb-c00d-4173-b2af-0320a98e2e4d",
   "metadata": {
    "tags": []
   },
   "source": [
    "## Export"
   ]
  },
  {
   "cell_type": "code",
   "execution_count": null,
   "id": "5ea4a873-d42f-4628-b6e2-11c401b3a0be",
   "metadata": {},
   "outputs": [],
   "source": [
    "ra.to_parquet('../data/process/gdp_6h.parquet')\n",
    "ra.to_netcdf('../data/process/gdp_6h.nc')"
   ]
  },
  {
   "cell_type": "markdown",
   "id": "cae94b4a-9be6-42b0-8271-0afd183b3057",
   "metadata": {},
   "source": [
    "## Import"
   ]
  },
  {
   "cell_type": "code",
   "execution_count": 9,
   "id": "f3d608c0-d705-4002-8ef8-6f9dcddeb8c7",
   "metadata": {},
   "outputs": [],
   "source": [
    "ds2 = dataformat.read_from_parquet('../data/process/gdp_6h.parquet')"
   ]
  },
  {
   "cell_type": "code",
   "execution_count": 10,
   "id": "b284ec72-2307-4022-9a69-801f09dc6dcf",
   "metadata": {},
   "outputs": [
    {
     "data": {
      "text/plain": [
       "<Array [14832, 26654, ..., 67242750, 68240990] type='100 * int64[parameters...'>"
      ]
     },
     "execution_count": 10,
     "metadata": {},
     "output_type": "execute_result"
    }
   ],
   "source": [
    "ds2.ID"
   ]
  },
  {
   "cell_type": "markdown",
   "id": "95816311-3e8a-4a83-b1ab-bcca807efe80",
   "metadata": {},
   "source": [
    "## Awkward Array"
   ]
  },
  {
   "cell_type": "code",
   "execution_count": 11,
   "id": "7334d731-4bfd-4e29-9196-bd68953df007",
   "metadata": {},
   "outputs": [],
   "source": [
    "ds = ra.to_awkward()"
   ]
  },
  {
   "cell_type": "code",
   "execution_count": 12,
   "id": "6b33d76b-f937-4f89-b8c2-64712355b8eb",
   "metadata": {},
   "outputs": [
    {
     "data": {
      "text/plain": [
       "<Array [14832, 26654, ..., 67242750, 68240990] type='100 * int64[parameters...'>"
      ]
     },
     "execution_count": 12,
     "metadata": {},
     "output_type": "execute_result"
    }
   ],
   "source": [
    "ds.ID"
   ]
  },
  {
   "cell_type": "code",
   "execution_count": 13,
   "id": "58b48833-387a-4fe7-a144-1e1628959ee8",
   "metadata": {},
   "outputs": [
    {
     "data": {
      "text/plain": [
       "['ID',\n",
       " 'rowsize',\n",
       " 'WMO',\n",
       " 'expno',\n",
       " 'deploy_date',\n",
       " 'deploy_lat',\n",
       " 'deploy_lon',\n",
       " 'end_date',\n",
       " 'end_lat',\n",
       " 'end_lon',\n",
       " 'drogue_lost_date',\n",
       " 'typedeath',\n",
       " 'typebuoy',\n",
       " 'DeployingShip',\n",
       " 'DeploymentStatus',\n",
       " 'BuoyTypeManufacturer',\n",
       " 'BuoyTypeSensorArray',\n",
       " 'CurrentProgram',\n",
       " 'PurchaserFunding',\n",
       " 'SensorUpgrade',\n",
       " 'Transmissions',\n",
       " 'DeployingCountry',\n",
       " 'DeploymentComments',\n",
       " 'ManufactureYear',\n",
       " 'ManufactureMonth',\n",
       " 'ManufactureSensorType',\n",
       " 'ManufactureVoltage',\n",
       " 'FloatDiameter',\n",
       " 'SubsfcFloatPresence',\n",
       " 'DrogueType',\n",
       " 'DrogueLength',\n",
       " 'DrogueBallast',\n",
       " 'DragAreaAboveDrogue',\n",
       " 'DragAreaOfDrogue',\n",
       " 'DragAreaRatio',\n",
       " 'DrogueCenterDepth',\n",
       " 'DrogueDetectSensor',\n",
       " 'obs']"
      ]
     },
     "execution_count": 13,
     "metadata": {},
     "output_type": "execute_result"
    }
   ],
   "source": [
    "ds.fields"
   ]
  },
  {
   "cell_type": "code",
   "execution_count": 14,
   "id": "f4b78c8a-177b-4842-a8c9-9f98daaa27e7",
   "metadata": {},
   "outputs": [
    {
     "data": {
      "text/plain": [
       "['ids',\n",
       " 'time',\n",
       " 'lon',\n",
       " 'lat',\n",
       " 've',\n",
       " 'vn',\n",
       " 'temp',\n",
       " 'err_lat',\n",
       " 'err_lon',\n",
       " 'err_temp',\n",
       " 'drogue_status']"
      ]
     },
     "execution_count": 14,
     "metadata": {},
     "output_type": "execute_result"
    }
   ],
   "source": [
    "ds.obs.fields"
   ]
  },
  {
   "cell_type": "code",
   "execution_count": null,
   "id": "ecf16695-0e36-4319-8388-3b1a4c2cdbc5",
   "metadata": {},
   "outputs": [],
   "source": []
  }
 ],
 "metadata": {
  "kernelspec": {
   "display_name": "research",
   "language": "python",
   "name": "research"
  },
  "language_info": {
   "codemirror_mode": {
    "name": "ipython",
    "version": 3
   },
   "file_extension": ".py",
   "mimetype": "text/x-python",
   "name": "python",
   "nbconvert_exporter": "python",
   "pygments_lexer": "ipython3",
   "version": "3.10.4"
  }
 },
 "nbformat": 4,
 "nbformat_minor": 5
}
