{
 "cells": [
  {
   "cell_type": "markdown",
   "id": "6426c30b-df03-46a9-8fb7-57ddf404683e",
   "metadata": {
    "tags": []
   },
   "source": [
    "# Global Drifter Program (hourly data): example\n",
    "\n",
    "In this Notebook, we use the *hourly* data from the NOAA Global Drifter Program to illustrate the typical steps needed to preprocess a Lagrangian dataset into a ragged array format that can be ingested by the *CloudDrift* library."
   ]
  },
  {
   "cell_type": "markdown",
   "id": "d7d4c013-74b6-4444-828c-b74d6231141a",
   "metadata": {
    "tags": []
   },
   "source": [
    "## Dataformat module"
   ]
  },
  {
   "cell_type": "code",
   "execution_count": null,
   "id": "1b205ff8-500a-486a-b6e5-1ca835f463d4",
   "metadata": {},
   "outputs": [],
   "source": [
    "import sys\n",
    "sys.path.insert(0, '../')\n",
    "from clouddrift import ragged_array"
   ]
  },
  {
   "cell_type": "markdown",
   "id": "2ebd53c4-b227-4168-b5be-afbebf06f61b",
   "metadata": {},
   "source": [
    "The `dataformat.py` module contains the class `ragged_array`. This class object can be initialized with a series of dictionnaries matching the name of the variables of the original data with the ragged representation of the data and their respectives attributes."
   ]
  },
  {
   "cell_type": "code",
   "execution_count": null,
   "id": "53edd40a-998d-45eb-a3f9-0db5cd842645",
   "metadata": {},
   "outputs": [],
   "source": [
    "ragged_array?"
   ]
  },
  {
   "cell_type": "markdown",
   "id": "958fa781-ba38-4b47-9038-c0b9442f81ff",
   "metadata": {},
   "source": [
    "The length of the variables in the dataset is either equal to the number_of_trajectories (`nb_traj`) or the number of observations (`obs`) measured along the trajectories. \n",
    "\n",
    "The first three dictionnaries: `coords`, `metadata`, `data`, match the variable names—respectively for coordinates variables, metatadata variables, and data variables—with the ragged representation of the data.\n",
    "\n",
    "- The coordinates are mandatatory variables (length `obs`) for the ragged array to be used with the library and are always `time`, `lon`, `lat`, and `ids`. \n",
    "- The metatadata variables (length `nb_traj`) are constant values associated with a single trajectory such as the length of the observations (`rowsize`), the deployement information (`deploy_lon`, `deploy_lat`, `deploy_date`), the type of buoys (`typebuoy`), etc.\n",
    "- The data variables (length `obs`) are quantity measured along the trajectories such as velocity component (`ve`, `vn`), the sea surface temperature and its uncertainty (`sst`, `err_sst`), the drogue presence flag (`drogue_status`), etc.\n",
    "\n",
    "The last two dictionnaries: `attrs_global` and `attrs_variables` are optional and contains the attributes related to the dataset and each variable, respectively."
   ]
  },
  {
   "cell_type": "markdown",
   "id": "1b325e69-44b4-4c18-b4d1-d506f5cd56b2",
   "metadata": {},
   "source": [
    "## Classmethod `ragged_array.from_files()`\n",
    "\n",
    "This classmethod is available to create a `ragged_array` instance from a series of files."
   ]
  },
  {
   "cell_type": "code",
   "execution_count": null,
   "id": "46341618-3ed0-4bef-9322-be0239a2477b",
   "metadata": {},
   "outputs": [],
   "source": [
    "ragged_array.from_files?"
   ]
  },
  {
   "cell_type": "markdown",
   "id": "e9a6693b-639a-458b-a269-040cf764961c",
   "metadata": {},
   "source": [
    "This class method was inspired by the [Pangeo Forge](https://pangeo-forge.readthedocs.io/en/latest/) project which aims easing the extraction of data from traditional data archives and deposition in cloud object storage. For our `ragged_array.from_files()` classmethod, the different parameters are:\n",
    "\n",
    "- a list of indices (or identification number) that will be interate to concatenate the files into the ragged array format\n",
    "- a **preprocessing function** with the following signature:\n",
    "    - `Signature: preprocess_func(index: int) -> xarray.core.dataset.Dataset`, where the index parameter is an identifier of a trajectory, e.g. the identification number of an Argo float) and returns an [xarray Dataset](https://docs.xarray.dev/en/latest/generated/xarray.Dataset.html). \n",
    "- a dictionnary mapping the mandatory coordinates list to the name of those variables in the dataset, e.g.\n",
    "    coords = {'ids': 'number', 'time': 't', 'lon': 'longitude', 'lat': 'latitude'}\n",
    "- an optional list of variable names containing metadata information about the trajectory (size: 1 per trajectory)\n",
    "- an optional list of variable names containing the data along the trajectory (size: number of observations per trajectory)\n",
    "- an optional function that returns directly the number of observation of a trajectory (`Signature: rowsize_func(index: int) -> int`)\n",
    "\n",
    "Because every dataset is unique, the preprocessing function is used to perform operation such as: formatting the date, changing the type of the variables, modifying the metadata, etc. The class also needs to *initially* calculate the sum of all observations to allocate memory. To *speed up* this process, in the situation where a lot of preprocessing are performed, it is possible to provide a second function `rowsize_func`, that returns directly the number of observation of a trajectory (`Signature: rowsize_func(index: int) -> int`). By default, this is operation performed using `lambda i: preprocess_func(i).dims['obs']`. \n",
    "\n",
    "We provide preprocessing function for different datasets in the `data/` folder (`gdp.py`, `gdp6h.py`, `parcels.py`, etc.) and those can serve as a guide to defined a new set of functions for another dataset."
   ]
  },
  {
   "cell_type": "markdown",
   "id": "2aded949-7d07-47fd-b184-50574c2600ba",
   "metadata": {},
   "source": [
    "# Dataset-specific functions\n",
    "The `gdp.py` module contains a number of specific functions for the current GDP files, including:\n",
    "- `gdp.preprocess`: applies preprocessing routine and returned a `xarray.Dataset` for a specific trajectory \n",
    "- `gdp.download`: fetches NetCDF files from the GDP FTP server\n",
    "- `gdp.rowsize [Optional]`: returns the dimension of a specific trajectory to speed up the preprocessing"
   ]
  },
  {
   "cell_type": "code",
   "execution_count": null,
   "id": "50aa29c2-5cfa-4ca7-ada3-7c3a6ec3b384",
   "metadata": {},
   "outputs": [],
   "source": [
    "from data import gdp"
   ]
  },
  {
   "cell_type": "markdown",
   "id": "c42a0c03-fcb3-4131-af3c-e6e7bea4e833",
   "metadata": {},
   "source": [
    "## Download:\n",
    "\n",
    "The `gdp.download` function will store the raw dataset into the `data/raw/gdp-v2.00/` folder (specified in the `gdp.py` module). By default `download()` will download the complete GPD dataset (containing 17,324 files for versions 1.04c and 2.00) from the AOML repository ([link](https://www.aoml.noaa.gov/ftp/pub/phod/lumpkin/hourly/v2.00/netcdf/))."
   ]
  },
  {
   "cell_type": "code",
   "execution_count": null,
   "id": "ff938826-a6af-4e18-b8b1-39d236c92608",
   "metadata": {},
   "outputs": [],
   "source": [
    "gdp.download?"
   ]
  },
  {
   "cell_type": "markdown",
   "id": "c7d977de-6162-4f63-b576-e9377d1d4f3e",
   "metadata": {},
   "source": [
    "With this function, it is also possible to retrieve a subset from a `drifter_ids` list or specified an integer `n_random_id` to randomly retrieve `n` trajectory. If both arguments are given, the function downloads `n_random_id` out of the list `drifter_ids`. The function returns the list of `drifters_ids` that was downloaded, and can be passed to create the ragged array."
   ]
  },
  {
   "cell_type": "code",
   "execution_count": null,
   "id": "4b9ca507-0dab-4d84-bf9b-665fcb860755",
   "metadata": {},
   "outputs": [],
   "source": [
    "drifter_ids = gdp.download(n_random_id=100)"
   ]
  },
  {
   "cell_type": "markdown",
   "id": "e35f6f75-f7fb-4ba3-814f-46e3b8cc7d34",
   "metadata": {},
   "source": [
    "Once the data are downloaded, the ragged array object can be created and either saved as a NetCDF file, a parquet file, or converted to an [Awkward Array](https://github.com/scikit-hep/awkward) that can be used for analysis:"
   ]
  },
  {
   "cell_type": "code",
   "execution_count": null,
   "id": "59137333-eed9-406f-8af2-e3a782fad210",
   "metadata": {},
   "outputs": [],
   "source": [
    "coords = {'ids': 'ids', 'time': 'time', 'lon': 'longitude', 'lat': 'latitude'}\n",
    "metadata = ['ID', 'rowsize', 'WMO', 'expno', 'deploy_date', 'deploy_lat', 'deploy_lon', 'end_date', 'end_lat', 'end_lon', 'drogue_lost_date', 'typedeath', 'typebuoy', 'location_type', 'DeployingShip', 'DeploymentStatus', 'BuoyTypeManufacturer', 'BuoyTypeSensorArray', 'CurrentProgram', 'PurchaserFunding', 'SensorUpgrade', 'Transmissions', 'DeployingCountry', 'DeploymentComments', 'ManufactureYear', 'ManufactureMonth', 'ManufactureSensorType', 'ManufactureVoltage', 'FloatDiameter', 'SubsfcFloatPresence', 'DrogueType', 'DrogueLength', 'DrogueBallast', 'DragAreaAboveDrogue', 'DragAreaOfDrogue', 'DragAreaRatio', 'DrogueCenterDepth', 'DrogueDetectSensor']\n",
    "data = ['ve', 'vn', 'err_lat', 'err_lon', 'err_ve', 'err_vn', 'gap', 'sst', 'sst1', 'sst2', 'err_sst', 'err_sst1', 'err_sst2', 'flg_sst', 'flg_sst1', 'flg_sst2', 'drogue_status']\n",
    "\n",
    "ra = ragged_array.from_files(\n",
    "    drifter_ids,\n",
    "    gdp.preprocess,\n",
    "    coords,\n",
    "    metadata,\n",
    "    data,\n",
    "    rowsize_func=gdp.rowsize\n",
    ")"
   ]
  },
  {
   "cell_type": "markdown",
   "id": "00705eef-eb9b-4cdd-958d-e9afb832e7f0",
   "metadata": {},
   "source": [
    "## Export to data files:"
   ]
  },
  {
   "cell_type": "code",
   "execution_count": null,
   "id": "24e377c2-2fba-4378-8c77-4f6747fa51f3",
   "metadata": {
    "tags": []
   },
   "outputs": [],
   "source": [
    "ra.to_parquet('../data/process/gdp_v2.00.parquet')\n",
    "ra.to_netcdf('../data/process/gdp_v2.00.nc')"
   ]
  },
  {
   "cell_type": "markdown",
   "id": "7c9048e0-fc3b-49ec-b35b-285fbecda8e5",
   "metadata": {},
   "source": [
    "## Import from data files:"
   ]
  },
  {
   "cell_type": "code",
   "execution_count": null,
   "id": "821a999d-ee63-4087-92e8-5373d5c61b43",
   "metadata": {},
   "outputs": [],
   "source": [
    "ra2 = ragged_array.from_parquet('../data/process/gdp_v2.00.parquet')"
   ]
  },
  {
   "cell_type": "code",
   "execution_count": null,
   "id": "0e2f211d-7217-4964-bbe8-b47d93533ab3",
   "metadata": {},
   "outputs": [],
   "source": [
    "ra2"
   ]
  },
  {
   "cell_type": "markdown",
   "id": "6fcf518d-1f87-44ae-a284-7a4b34950bbc",
   "metadata": {},
   "source": [
    "## Convert to Awkward Array:"
   ]
  },
  {
   "cell_type": "code",
   "execution_count": null,
   "id": "1cfea340-c6d5-47b4-84f9-8d0b7c94afb9",
   "metadata": {},
   "outputs": [],
   "source": [
    "ds = ra2.to_awkward()"
   ]
  },
  {
   "cell_type": "code",
   "execution_count": null,
   "id": "58b48833-387a-4fe7-a144-1e1628959ee8",
   "metadata": {},
   "outputs": [],
   "source": [
    "ds.fields"
   ]
  },
  {
   "cell_type": "code",
   "execution_count": null,
   "id": "f4b78c8a-177b-4842-a8c9-9f98daaa27e7",
   "metadata": {},
   "outputs": [],
   "source": [
    "ds.obs.fields"
   ]
  },
  {
   "cell_type": "markdown",
   "id": "2848fc27-2151-40e3-9dda-6746df5a2ec6",
   "metadata": {},
   "source": [
    "### Global attributes"
   ]
  },
  {
   "cell_type": "code",
   "execution_count": null,
   "id": "4cfc0238-1bab-4bf4-994d-459231fb5f5c",
   "metadata": {},
   "outputs": [],
   "source": [
    "ds.layout.parameters"
   ]
  },
  {
   "cell_type": "markdown",
   "id": "92d9b844-7bcd-417c-b82f-897a81bcae44",
   "metadata": {},
   "source": [
    "### Variable attributes"
   ]
  },
  {
   "cell_type": "code",
   "execution_count": null,
   "id": "025cb485-b579-44cf-a8bb-4ad8fa95c6f1",
   "metadata": {},
   "outputs": [],
   "source": [
    "ds.ID.layout.parameters"
   ]
  },
  {
   "cell_type": "code",
   "execution_count": null,
   "id": "46e066ea-abbc-440e-962d-2e81cb66a2bf",
   "metadata": {},
   "outputs": [],
   "source": [
    "ds.obs.sst.layout.parameters"
   ]
  }
 ],
 "metadata": {
  "kernelspec": {
   "display_name": "clouddrift",
   "language": "python",
   "name": "clouddrift"
  },
  "language_info": {
   "codemirror_mode": {
    "name": "ipython",
    "version": 3
   },
   "file_extension": ".py",
   "mimetype": "text/x-python",
   "name": "python",
   "nbconvert_exporter": "python",
   "pygments_lexer": "ipython3",
   "version": "3.10.5"
  }
 },
 "nbformat": 4,
 "nbformat_minor": 5
}
