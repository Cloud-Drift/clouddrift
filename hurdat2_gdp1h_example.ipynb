{
 "cells": [
  {
   "cell_type": "code",
   "execution_count": null,
   "metadata": {},
   "outputs": [],
   "source": [
    "from datetime import datetime\n",
    "\n",
    "import cartopy.crs as ccrs\n",
    "import matplotlib.pyplot as plt\n",
    "import numpy as np\n",
    "\n",
    "from clouddrift import adapters, ragged"
   ]
  },
  {
   "cell_type": "code",
   "execution_count": 12,
   "metadata": {},
   "outputs": [
    {
     "name": "stderr",
     "output_type": "stream",
     "text": [
      "Cannot determine the file has been updated on the remote source.                               'Last-Modified' header not present.\n",
      "https://www.aoml.noaa.gov/hrd/hurdat/hurdat2.html: 6.61MB [00:00, 7.53MB/s]\n",
      "Retrieving the number of obs: 100%|████| 1951/1951 [00:00<00:00, 1553947.42it/s]\n",
      "/home/ksantana/sources/CloudDrift/clouddrift/clouddrift/raggedarray.py:385: UserWarning: Variable cyclone_number requested but not found; skipping.\n",
      "  warnings.warn(f\"Variable {var} requested but not found; skipping.\")\n",
      "/home/ksantana/sources/CloudDrift/clouddrift/clouddrift/raggedarray.py:392: UserWarning: Variable max_sustained_radii requested but not found; skipping.\n",
      "  warnings.warn(f\"Variable {var} requested but not found; skipping.\")\n",
      "Filling the Ragged Array:   0%|                        | 0/1951 [00:00<?, ?it/s]/home/ksantana/sources/CloudDrift/clouddrift/clouddrift/raggedarray.py:416: UserWarning: Variable cyclone_number requested but not found; skipping.\n",
      "  warnings.warn(\n",
      "/home/ksantana/sources/CloudDrift/clouddrift/clouddrift/raggedarray.py:424: UserWarning: Variable max_sustained_radii requested but not found; skipping.\n",
      "  warnings.warn(\n",
      "Filling the Ragged Array: 100%|███████████| 1951/1951 [00:00<00:00, 2125.22it/s]\n",
      "/home/ksantana/sources/CloudDrift/clouddrift/clouddrift/raggedarray.py:325: UserWarning: Variable cyclone_number requested but not found; skipping.\n",
      "  warnings.warn(f\"Variable {var} requested but not found; skipping.\")\n",
      "/home/ksantana/sources/CloudDrift/clouddrift/clouddrift/raggedarray.py:325: UserWarning: Variable max_sustained_radii requested but not found; skipping.\n",
      "  warnings.warn(f\"Variable {var} requested but not found; skipping.\")\n",
      "Downloading files:   6%|▌         | 295/5000 [01:08<31:39,  2.48Files/s]Error downloading data file: https://www.aoml.noaa.gov/ftp/pub/phod/buoydata/hourly_product/v2.01//drifter_hourly_114867.nc to: /tmp/clouddrift/gdp/drifter_hourly_114867.nc, error: HTTPSConnectionPool(host='www.aoml.noaa.gov', port=443): Max retries exceeded with url: /ftp/pub/phod/buoydata/hourly_product/v2.01//drifter_hourly_114867.nc (Caused by ConnectTimeoutError(<urllib3.connection.HTTPSConnection object at 0x7f823bde8350>, 'Connection to www.aoml.noaa.gov timed out. (connect timeout=5)'))\n",
      "Downloading files:  66%|██████▌   | 3303/5000 [16:03<09:39,  2.93Files/s] "
     ]
    }
   ],
   "source": [
    "\n",
    "def plot_trajectories(ds, linestyle):\n",
    "    obs_ranges = np.cumsum(np.array([0, *ds[\"rowsize\"]]))\n",
    "    traj_ids = ds[\"id\"].to_numpy().tolist()\n",
    "    for traj_id in traj_ids:\n",
    "        index = traj_ids.index(traj_id)\n",
    "        start, end = obs_ranges[index], obs_ranges[index+1]\n",
    "        selected = slice(start, end)\n",
    "        \n",
    "        plt.plot(\n",
    "            ds[\"lon\"].isel(obs=selected), ds[\"lat\"].isel(obs=selected),\n",
    "            linestyle=linestyle, ms=0.1,\n",
    "            transform=ccrs.Geodetic(),\n",
    "        )\n",
    "\n",
    "# Plot the storms on the projection after applying the geodetic transformation\n",
    "ax = plt.axes(projection=ccrs.PlateCarree())\n",
    "ax.coastlines()\n",
    "\n",
    "hurdat_ds = adapters.hurdat2.to_raggedarray().to_xarray()\n",
    "gdp1h_ds = adapters.gdp1h.to_raggedarray(n_random_id=5000).to_xarray()\n",
    "criteria = dict(\n",
    "    lat=(10, 50), \n",
    "    lon=(-80, -20), \n",
    "    time=(\n",
    "        np.float64(datetime(2020, 8, 1).timestamp()), \n",
    "        np.float64(datetime(2020, 10, 1).timestamp())\n",
    "    )\n",
    ")\n",
    "\n",
    "gdp1h_ds = ragged.subset(gdp1h_ds, criteria)\n",
    "hurdat_ds = ragged.subset(hurdat_ds, criteria)\n",
    "\n",
    "for ds, ls in [(gdp1h_ds, \"-\"), (hurdat_ds, \"--\")]:\n",
    "    plot_trajectories(ds, ls)"
   ]
  }
 ],
 "metadata": {
  "kernelspec": {
   "display_name": "clouddrift",
   "language": "python",
   "name": "python3"
  },
  "language_info": {
   "codemirror_mode": {
    "name": "ipython",
    "version": 3
   },
   "file_extension": ".py",
   "mimetype": "text/x-python",
   "name": "python",
   "nbconvert_exporter": "python",
   "pygments_lexer": "ipython3",
   "version": "3.12.1"
  }
 },
 "nbformat": 4,
 "nbformat_minor": 2
}
